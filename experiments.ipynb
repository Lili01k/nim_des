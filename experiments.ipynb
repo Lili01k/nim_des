{
 "cells": [
  {
   "cell_type": "markdown",
   "metadata": {},
   "source": [
    "# AMHE projekt\n",
    "Kinga Hacaś,\n",
    "Kinga Kwoka"
   ]
  },
  {
   "cell_type": "markdown",
   "metadata": {},
   "source": [
    "## Środowisko"
   ]
  },
  {
   "cell_type": "code",
   "execution_count": null,
   "metadata": {
    "vscode": {
     "languageId": "r"
    }
   },
   "outputs": [],
   "source": [
    "install.packages(c(\"stringr\", \"dplyr\", \"purrr\", \"ggplot2\"))"
   ]
  },
  {
   "cell_type": "code",
   "execution_count": 1,
   "metadata": {
    "vscode": {
     "languageId": "r"
    }
   },
   "outputs": [],
   "source": [
    "source(\"des-classic.R\") # load R implementation of DES\n",
    "library(\"cec2017\") # CEC interface for R\n",
    "library(\"purrr\")\n",
    "library(\"ggplot2\")"
   ]
  },
  {
   "cell_type": "code",
   "execution_count": 2,
   "metadata": {
    "vscode": {
     "languageId": "r"
    }
   },
   "outputs": [],
   "source": [
    "# Load nim implementation of DES\n",
    "libPath = \"libexample.so\"\n",
    "dyn.load(libPath)\n",
    "des <- function(dimension, fn_i, maxGenerations) {\n",
    "  return(.Call(\"des\", dimension, fn_i, maxGenerations))\n",
    "}"
   ]
  },
  {
   "cell_type": "code",
   "execution_count": 3,
   "metadata": {
    "vscode": {
     "languageId": "r"
    }
   },
   "outputs": [],
   "source": [
    "#Set random seed\n",
    "set.seed(47)"
   ]
  },
  {
   "cell_type": "markdown",
   "metadata": {},
   "source": [
    "## Eksperymenty"
   ]
  },
  {
   "cell_type": "markdown",
   "metadata": {},
   "source": [
    "### Parametry eksperymentów"
   ]
  },
  {
   "cell_type": "code",
   "execution_count": 14,
   "metadata": {
    "vscode": {
     "languageId": "r"
    }
   },
   "outputs": [],
   "source": [
    "param_function_id <- c(1, 3, 7, 9)#, 15, 30) #, 15, 30) #functions 10+ are not defined for 2 dimensions\n",
    "param_dimensions <- c(2)#, 10)\n",
    "repeat_experiment <- 2\n",
    "\n",
    "param_combinations <- expand.grid(fn_i=param_function_id, dimensions=param_dimensions)\n",
    "param_combinations <- subset(param_combinations, !(dimensions == 2 & fn_i > 10))"
   ]
  },
  {
   "cell_type": "code",
   "execution_count": 15,
   "metadata": {
    "vscode": {
     "languageId": "r"
    }
   },
   "outputs": [],
   "source": [
    "run_experiment <- function(fn_i, dim) {\n",
    "  results <- list(R=vector(\"list\", length = repeat_experiment), nim=vector(\"list\", length = repeat_experiment))\n",
    "  params <- list(fn_i, dim)\n",
    "  times <- list(R=numeric(repeat_experiment),nim=numeric(repeat_experiment))\n",
    "\n",
    "  maxit <- round(10000 * dim / (4 * dim + 1))\n",
    "  for (j in 1:repeat_experiment) {\n",
    "    #R implementation\n",
    "    start_time <- Sys.time()\n",
    "    result <- des_classic(rep(0, dim), fn = partial(cec2017, i = fn_i))\n",
    "    end_time <- Sys.time()\n",
    "    elapsed_time <- end_time - start_time\n",
    "\n",
    "    results[[\"R\"]][[j]] <- list(value=result$value, convergence=result$convergence, par=result$par)# iters=length(result$diagnostic$Ft))\n",
    "    times[[\"R\"]][j] <- as.numeric(elapsed_time, units=\"secs\")\n",
    "\n",
    "    #nim implementation\n",
    "    start_time <- Sys.time()\n",
    "    result <- des(dimension = dim, fn_i = fn_i, maxGenerations = maxit)\n",
    "    end_time <- Sys.time()\n",
    "    elapsed_time <- end_time - start_time\n",
    "\n",
    "    results[[\"nim\"]][[j]] <- list(value=cec2017(fn_i, result), par=result)\n",
    "    times[[\"nim\"]][j] <- as.numeric(elapsed_time, units=\"secs\")\n",
    "  }\n",
    "\n",
    "  return(list(params = params, results = results, times = times))\n",
    "}"
   ]
  },
  {
   "cell_type": "code",
   "execution_count": 16,
   "metadata": {
    "vscode": {
     "languageId": "r"
    }
   },
   "outputs": [],
   "source": [
    "results <- apply(param_combinations, 1, function(x) {\n",
    "  run_experiment(x[1], x[2])\n",
    "})"
   ]
  },
  {
   "cell_type": "code",
   "execution_count": 17,
   "metadata": {
    "vscode": {
     "languageId": "r"
    }
   },
   "outputs": [],
   "source": [
    "plot_data <- data.frame(\n",
    "  fn_i = integer(),\n",
    "  dimensions = integer(),\n",
    "  method = character(),\n",
    "  value = numeric(),\n",
    "  time = numeric(),\n",
    "  stringsAsFactors = FALSE\n",
    ")"
   ]
  },
  {
   "cell_type": "code",
   "execution_count": 18,
   "metadata": {
    "vscode": {
     "languageId": "r"
    }
   },
   "outputs": [
    {
     "name": "stderr",
     "output_type": "stream",
     "text": [
      "Warning message in data.frame(fn_i = fn_i, dimensions = dimensions, method = \"R\", :\n",
      "“row names were found from a short variable and have been discarded”\n",
      "Warning message in data.frame(fn_i = fn_i, dimensions = dimensions, method = \"nim\", :\n",
      "“row names were found from a short variable and have been discarded”\n",
      "Warning message in data.frame(fn_i = fn_i, dimensions = dimensions, method = \"R\", :\n",
      "“row names were found from a short variable and have been discarded”\n",
      "Warning message in data.frame(fn_i = fn_i, dimensions = dimensions, method = \"nim\", :\n",
      "“row names were found from a short variable and have been discarded”\n",
      "Warning message in data.frame(fn_i = fn_i, dimensions = dimensions, method = \"R\", :\n",
      "“row names were found from a short variable and have been discarded”\n",
      "Warning message in data.frame(fn_i = fn_i, dimensions = dimensions, method = \"nim\", :\n",
      "“row names were found from a short variable and have been discarded”\n",
      "Warning message in data.frame(fn_i = fn_i, dimensions = dimensions, method = \"R\", :\n",
      "“row names were found from a short variable and have been discarded”\n",
      "Warning message in data.frame(fn_i = fn_i, dimensions = dimensions, method = \"nim\", :\n",
      "“row names were found from a short variable and have been discarded”\n"
     ]
    }
   ],
   "source": [
    "for (entry in results) {\n",
    "  fn_i <- entry$params[[1]]\n",
    "  dimensions <- entry$params[[2]]\n",
    "\n",
    "  R_value <- unlist(lapply(entry$results$R, function(x) x$value))\n",
    "  nim_value <- unlist(lapply(entry$results$nim, function(x) x$value))\n",
    "  R_time <- entry$times$R\n",
    "  nim_time <- entry$times$nim\n",
    "\n",
    "  plot_data <- rbind(plot_data,\n",
    "                     data.frame(fn_i = fn_i,\n",
    "                                dimensions = dimensions,\n",
    "                                method = \"R\",\n",
    "                                value = R_value,\n",
    "                                time = R_time),\n",
    "                     data.frame(fn_i = fn_i,\n",
    "                                dimensions = dimensions,\n",
    "                                method = \"nim\",\n",
    "                                value = nim_value,\n",
    "                                time = nim_time))\n",
    "}"
   ]
  },
  {
   "cell_type": "code",
   "execution_count": 19,
   "metadata": {
    "vscode": {
     "languageId": "r"
    }
   },
   "outputs": [],
   "source": [
    "# Plot 1: Boxplot of value for R and nim\n",
    "l <- labeller(\n",
    "  dimensions = c(\"2\" = \"N = 2\", \"10\" = \"N = 10\"),\n",
    "  fn_i = c(\"1\" = \"F1\", \"3\" = \"F3\", \"7\" = \"F7\",\"9\" = \"F9\",\"15\" = \"F15\",\"30\" = \"F30\"))\n",
    "p1 <- ggplot(plot_data, aes(x = method, y = value)) +\n",
    "  geom_boxplot() +\n",
    "  facet_wrap(fn_i ~ dimensions, scales = \"free\", ncol=4, labeller = l) +\n",
    "  labs(title = \"Resulting values for R and nim implementations\",\n",
    "       x = \"Method\",\n",
    "       y = \"Value\")\n",
    "\n",
    "# Plot 2: Boxplot of times for R and nim\n",
    "p2 <- ggplot(plot_data, aes(x = method, y = time)) +\n",
    "  geom_boxplot() +\n",
    "  facet_wrap(fn_i ~ dimensions, scales = \"free\", ncol=4, labeller = l) +\n",
    "  labs(title = \"Execution times for R and nim implementations\",\n",
    "       x = \"Method\",\n",
    "       y = \"Time\")"
   ]
  },
  {
   "cell_type": "code",
   "execution_count": 20,
   "metadata": {
    "vscode": {
     "languageId": "r"
    }
   },
   "outputs": [
    {
     "data": {
      "image/png": "[encoded data removed]",
      "text/plain": [
       "plot without title"
      ]
     },
     "metadata": {
      "image/png": {
       "height": 420,
       "width": 420
      }
     },
     "output_type": "display_data"
    }
   ],
   "source": [
    "ggsave(p1, filename = \"results/value_boxplot.png\", height=5, width=10)\n",
    "p1"
   ]
  },
  {
   "cell_type": "code",
   "execution_count": 21,
   "metadata": {
    "vscode": {
     "languageId": "r"
    }
   },
   "outputs": [
    {
     "data": {
      "image/png": "[encoded data removed]",
      "text/plain": [
       "plot without title"
      ]
     },
     "metadata": {
      "image/png": {
       "height": 420,
       "width": 420
      }
     },
     "output_type": "display_data"
    }
   ],
   "source": [
    "ggsave(p2, filename = \"results/time_boxplot.png\", height=5, width=10)\n",
    "p2"
   ]
  },
  {
   "cell_type": "code",
   "execution_count": null,
   "metadata": {
    "vscode": {
     "languageId": "r"
    }
   },
   "outputs": [],
   "source": []
  }
 ],
 "metadata": {
  "kernelspec": {
   "display_name": "R",
   "language": "R",
   "name": "ir"
  },
  "language_info": {
   "codemirror_mode": "r",
   "file_extension": ".r",
   "mimetype": "text/x-r-source",
   "name": "R",
   "pygments_lexer": "r",
   "version": "4.4.0"
  }
 },
 "nbformat": 4,
 "nbformat_minor": 2
}
