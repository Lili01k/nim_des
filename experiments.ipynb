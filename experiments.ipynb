{
 "cells": [
  {
   "cell_type": "code",
   "execution_count": null,
   "metadata": {
    "vscode": {
     "languageId": "r"
    }
   },
   "outputs": [],
   "source": [
    "install.packages(c(\"stringr\", \"dplyr\", \"purrr\"))"
   ]
  },
  {
   "cell_type": "code",
   "execution_count": 2,
   "metadata": {
    "vscode": {
     "languageId": "r"
    }
   },
   "outputs": [],
   "source": [
    "source(\"des-classic.R\")\n",
    "# source(\"cec2017/R/cec2017.R\")\n",
    "library(\"cec2017\")\n",
    "library(\"purrr\")"
   ]
  },
  {
   "cell_type": "code",
   "execution_count": null,
   "metadata": {
    "vscode": {
     "languageId": "r"
    }
   },
   "outputs": [],
   "source": [
    "set.seed(47)"
   ]
  },
  {
   "cell_type": "code",
   "execution_count": 3,
   "metadata": {
    "vscode": {
     "languageId": "r"
    }
   },
   "outputs": [],
   "source": [
    "param_function_id <- c(3, 7, 9) #, 15, 30) #functions 10+ are not defined for 2 dimensions\n",
    "param_dimensions <- c(2)\n",
    "repeat_experiment = 1\n",
    "\n",
    "param_combinations <- expand.grid(fn_i=param_function_id, dimensions=param_dimensions)"
   ]
  },
  {
   "cell_type": "code",
   "execution_count": 4,
   "metadata": {
    "vscode": {
     "languageId": "r"
    }
   },
   "outputs": [],
   "source": [
    "run_experiment <- function(fn_i, dim) {\n",
    "    results <- vector(\"list\", length = repeat_experiment)\n",
    "    times <- numeric(repeat_experiment)\n",
    "\n",
    "    for (j in 1:repeat_experiment) {\n",
    "        start_time <- Sys.time()\n",
    "        result <- des_classic(rep(90, dim), fn = partial(cec2017, i = fn_i))\n",
    "        end_time <- Sys.time()\n",
    "        elapsed_time <- end_time - start_time\n",
    "\n",
    "        results[[j]] <- list(value=result$value, convergence=result$convergence, par=result$par, iters=length(result$diagnostic$Ft))\n",
    "        times[j] <- as.numeric(elapsed_time, units=\"secs\")\n",
    "    }\n",
    "\n",
    "    return(list(results = results, times = times))\n",
    "}"
   ]
  },
  {
   "cell_type": "code",
   "execution_count": 5,
   "metadata": {
    "vscode": {
     "languageId": "r"
    }
   },
   "outputs": [],
   "source": [
    "results <- apply(param_combinations, 1, function(x) {\n",
    "  run_experiment(x[1], x[2])\n",
    "})"
   ]
  },
  {
   "cell_type": "code",
   "execution_count": 6,
   "metadata": {
    "vscode": {
     "languageId": "r"
    }
   },
   "outputs": [
    {
     "data": {
      "text/html": [
       "<ol>\n",
       "\t<li><dl>\n",
       "\t<dt>$results</dt>\n",
       "\t\t<dd><ol>\n",
       "\t<li><dl>\n",
       "\t<dt>$value</dt>\n",
       "\t\t<dd>300</dd>\n",
       "\t<dt>$convergence</dt>\n",
       "\t\t<dd>1</dd>\n",
       "\t<dt>$par</dt>\n",
       "\t\t<dd><style>\n",
       ".list-inline {list-style: none; margin:0; padding: 0}\n",
       ".list-inline>li {display: inline-block}\n",
       ".list-inline>li:not(:last-child)::after {content: \"\\00b7\"; padding: 0 .5ex}\n",
       "</style>\n",
       "<ol class=list-inline><li>-55.9383267344221</li><li>4.54306543003351</li></ol>\n",
       "</dd>\n",
       "\t<dt>$iters</dt>\n",
       "\t\t<dd>2222</dd>\n",
       "</dl>\n",
       "</li>\n",
       "</ol>\n",
       "</dd>\n",
       "\t<dt>$times</dt>\n",
       "\t\t<dd>3.73843550682068</dd>\n",
       "</dl>\n",
       "</li>\n",
       "\t<li><dl>\n",
       "\t<dt>$results</dt>\n",
       "\t\t<dd><ol>\n",
       "\t<li><dl>\n",
       "\t<dt>$value</dt>\n",
       "\t\t<dd>702.315795711458</dd>\n",
       "\t<dt>$convergence</dt>\n",
       "\t\t<dd>1</dd>\n",
       "\t<dt>$par</dt>\n",
       "\t\t<dd><style>\n",
       ".list-inline {list-style: none; margin:0; padding: 0}\n",
       ".list-inline>li {display: inline-block}\n",
       ".list-inline>li:not(:last-child)::after {content: \"\\00b7\"; padding: 0 .5ex}\n",
       "</style>\n",
       "<ol class=list-inline><li>-1.59373191181364</li><li>-4.48862769605657</li></ol>\n",
       "</dd>\n",
       "\t<dt>$iters</dt>\n",
       "\t\t<dd>2222</dd>\n",
       "</dl>\n",
       "</li>\n",
       "</ol>\n",
       "</dd>\n",
       "\t<dt>$times</dt>\n",
       "\t\t<dd>3.67463874816895</dd>\n",
       "</dl>\n",
       "</li>\n",
       "\t<li><dl>\n",
       "\t<dt>$results</dt>\n",
       "\t\t<dd><ol>\n",
       "\t<li><dl>\n",
       "\t<dt>$value</dt>\n",
       "\t\t<dd>900</dd>\n",
       "\t<dt>$convergence</dt>\n",
       "\t\t<dd>1</dd>\n",
       "\t<dt>$par</dt>\n",
       "\t\t<dd><style>\n",
       ".list-inline {list-style: none; margin:0; padding: 0}\n",
       ".list-inline>li {display: inline-block}\n",
       ".list-inline>li:not(:last-child)::after {content: \"\\00b7\"; padding: 0 .5ex}\n",
       "</style>\n",
       "<ol class=list-inline><li>-24.4785585395813</li><li>2.29709762728886</li></ol>\n",
       "</dd>\n",
       "\t<dt>$iters</dt>\n",
       "\t\t<dd>2222</dd>\n",
       "</dl>\n",
       "</li>\n",
       "</ol>\n",
       "</dd>\n",
       "\t<dt>$times</dt>\n",
       "\t\t<dd>3.57766175270081</dd>\n",
       "</dl>\n",
       "</li>\n",
       "</ol>\n"
      ],
      "text/latex": [
       "\\begin{enumerate}\n",
       "\\item \\begin{description}\n",
       "\\item[\\$results] \\begin{enumerate}\n",
       "\\item \\begin{description}\n",
       "\\item[\\$value] 300\n",
       "\\item[\\$convergence] 1\n",
       "\\item[\\$par] \\begin{enumerate*}\n",
       "\\item -55.9383267344221\n",
       "\\item 4.54306543003351\n",
       "\\end{enumerate*}\n",
       "\n",
       "\\item[\\$iters] 2222\n",
       "\\end{description}\n",
       "\n",
       "\\end{enumerate}\n",
       "\n",
       "\\item[\\$times] 3.73843550682068\n",
       "\\end{description}\n",
       "\n",
       "\\item \\begin{description}\n",
       "\\item[\\$results] \\begin{enumerate}\n",
       "\\item \\begin{description}\n",
       "\\item[\\$value] 702.315795711458\n",
       "\\item[\\$convergence] 1\n",
       "\\item[\\$par] \\begin{enumerate*}\n",
       "\\item -1.59373191181364\n",
       "\\item -4.48862769605657\n",
       "\\end{enumerate*}\n",
       "\n",
       "\\item[\\$iters] 2222\n",
       "\\end{description}\n",
       "\n",
       "\\end{enumerate}\n",
       "\n",
       "\\item[\\$times] 3.67463874816895\n",
       "\\end{description}\n",
       "\n",
       "\\item \\begin{description}\n",
       "\\item[\\$results] \\begin{enumerate}\n",
       "\\item \\begin{description}\n",
       "\\item[\\$value] 900\n",
       "\\item[\\$convergence] 1\n",
       "\\item[\\$par] \\begin{enumerate*}\n",
       "\\item -24.4785585395813\n",
       "\\item 2.29709762728886\n",
       "\\end{enumerate*}\n",
       "\n",
       "\\item[\\$iters] 2222\n",
       "\\end{description}\n",
       "\n",
       "\\end{enumerate}\n",
       "\n",
       "\\item[\\$times] 3.57766175270081\n",
       "\\end{description}\n",
       "\n",
       "\\end{enumerate}\n"
      ],
      "text/markdown": [
       "1. $results\n",
       ":   1. $value\n",
       ":   300\n",
       "$convergence\n",
       ":   1\n",
       "$par\n",
       ":   1. -55.9383267344221\n",
       "2. 4.54306543003351\n",
       "\n",
       "\n",
       "\n",
       "$iters\n",
       ":   2222\n",
       "\n",
       "\n",
       "\n",
       "\n",
       "\n",
       "\n",
       "$times\n",
       ":   3.73843550682068\n",
       "\n",
       "\n",
       "\n",
       "2. $results\n",
       ":   1. $value\n",
       ":   702.315795711458\n",
       "$convergence\n",
       ":   1\n",
       "$par\n",
       ":   1. -1.59373191181364\n",
       "2. -4.48862769605657\n",
       "\n",
       "\n",
       "\n",
       "$iters\n",
       ":   2222\n",
       "\n",
       "\n",
       "\n",
       "\n",
       "\n",
       "\n",
       "$times\n",
       ":   3.67463874816895\n",
       "\n",
       "\n",
       "\n",
       "3. $results\n",
       ":   1. $value\n",
       ":   900\n",
       "$convergence\n",
       ":   1\n",
       "$par\n",
       ":   1. -24.4785585395813\n",
       "2. 2.29709762728886\n",
       "\n",
       "\n",
       "\n",
       "$iters\n",
       ":   2222\n",
       "\n",
       "\n",
       "\n",
       "\n",
       "\n",
       "\n",
       "$times\n",
       ":   3.57766175270081\n",
       "\n",
       "\n",
       "\n",
       "\n",
       "\n"
      ],
      "text/plain": [
       "[[1]]\n",
       "[[1]]$results\n",
       "[[1]]$results[[1]]\n",
       "[[1]]$results[[1]]$value\n",
       "[1] 300\n",
       "\n",
       "[[1]]$results[[1]]$convergence\n",
       "[1] 1\n",
       "\n",
       "[[1]]$results[[1]]$par\n",
       "[1] -55.938327   4.543065\n",
       "\n",
       "[[1]]$results[[1]]$iters\n",
       "[1] 2222\n",
       "\n",
       "\n",
       "\n",
       "[[1]]$times\n",
       "[1] 3.738436\n",
       "\n",
       "\n",
       "[[2]]\n",
       "[[2]]$results\n",
       "[[2]]$results[[1]]\n",
       "[[2]]$results[[1]]$value\n",
       "[1] 702.3158\n",
       "\n",
       "[[2]]$results[[1]]$convergence\n",
       "[1] 1\n",
       "\n",
       "[[2]]$results[[1]]$par\n",
       "[1] -1.593732 -4.488628\n",
       "\n",
       "[[2]]$results[[1]]$iters\n",
       "[1] 2222\n",
       "\n",
       "\n",
       "\n",
       "[[2]]$times\n",
       "[1] 3.674639\n",
       "\n",
       "\n",
       "[[3]]\n",
       "[[3]]$results\n",
       "[[3]]$results[[1]]\n",
       "[[3]]$results[[1]]$value\n",
       "[1] 900\n",
       "\n",
       "[[3]]$results[[1]]$convergence\n",
       "[1] 1\n",
       "\n",
       "[[3]]$results[[1]]$par\n",
       "[1] -24.478559   2.297098\n",
       "\n",
       "[[3]]$results[[1]]$iters\n",
       "[1] 2222\n",
       "\n",
       "\n",
       "\n",
       "[[3]]$times\n",
       "[1] 3.577662\n",
       "\n"
      ]
     },
     "metadata": {},
     "output_type": "display_data"
    }
   ],
   "source": [
    "results"
   ]
  },
  {
   "cell_type": "code",
   "execution_count": null,
   "metadata": {
    "vscode": {
     "languageId": "r"
    }
   },
   "outputs": [],
   "source": []
  }
 ],
 "metadata": {
  "kernelspec": {
   "display_name": "R",
   "language": "R",
   "name": "ir"
  },
  "language_info": {
   "codemirror_mode": "r",
   "file_extension": ".r",
   "mimetype": "text/x-r-source",
   "name": "R",
   "pygments_lexer": "r",
   "version": "4.4.0"
  }
 },
 "nbformat": 4,
 "nbformat_minor": 2
}
